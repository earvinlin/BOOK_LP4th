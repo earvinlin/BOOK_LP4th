{
 "cells": [
  {
   "cell_type": "code",
   "execution_count": 1,
   "metadata": {},
   "outputs": [],
   "source": [
    "import os\n",
    "import sys"
   ]
  },
  {
   "cell_type": "code",
   "execution_count": 2,
   "metadata": {},
   "outputs": [
    {
     "data": {
      "text/plain": [
       "6"
      ]
     },
     "execution_count": 2,
     "metadata": {},
     "output_type": "execute_result"
    }
   ],
   "source": [
    "# 2進位\n",
    "x = 0b110\n",
    "x"
   ]
  },
  {
   "cell_type": "code",
   "execution_count": 5,
   "metadata": {},
   "outputs": [
    {
     "data": {
      "text/plain": [
       "57"
      ]
     },
     "execution_count": 5,
     "metadata": {},
     "output_type": "execute_result"
    }
   ],
   "source": [
    "# 16進位\n",
    "y = 0o71\n",
    "y"
   ]
  },
  {
   "cell_type": "code",
   "execution_count": 4,
   "metadata": {},
   "outputs": [
    {
     "name": "stdout",
     "output_type": "stream",
     "text": [
      "starting ...\n",
      "4\n",
      "********************\n",
      "res:  None\n",
      "4\n",
      "====================\n",
      "res:  None\n",
      "4\n"
     ]
    }
   ],
   "source": [
    "# Test yield\n",
    "\"\"\"\n",
    "到這裡你可能就明白yield和return的關係和區別了，帶yield的函數是一個生成器，\n",
    "而不是一個函數了，這個生成器有一個函數就是next函數，next就相當於“下一步”生\n",
    "成哪個數，這一次的next開始的地方是接著上一次的next停止的地方執行的，所以調\n",
    "用next的時候，生成器並不會從foo函數的開始執行，只是接著上一步停止的地方開\n",
    "始，然後遇到yield後，return出要生成的數，此步就結束。\n",
    "\"\"\"\n",
    "def foo() :\n",
    "    print(\"starting ...\")\n",
    "    while True :\n",
    "        res = yield 4\n",
    "        print(\"res: \", res)\n",
    "\n",
    "g = foo()\n",
    "print(next(g))\n",
    "print(\"*\"*20)\n",
    "print(next(g))\n",
    "print(\"=\"*20)\n",
    "print(next(g))"
   ]
  },
  {
   "cell_type": "code",
   "execution_count": null,
   "metadata": {},
   "outputs": [],
   "source": []
  }
 ],
 "metadata": {
  "kernelspec": {
   "display_name": "Python 3 (ipykernel)",
   "language": "python",
   "name": "python3"
  },
  "language_info": {
   "codemirror_mode": {
    "name": "ipython",
    "version": 3
   },
   "file_extension": ".py",
   "mimetype": "text/x-python",
   "name": "python",
   "nbconvert_exporter": "python",
   "pygments_lexer": "ipython3",
   "version": "3.8.6"
  }
 },
 "nbformat": 4,
 "nbformat_minor": 4
}
