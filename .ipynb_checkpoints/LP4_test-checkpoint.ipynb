{
 "cells": [
  {
   "cell_type": "code",
   "execution_count": 2,
   "id": "9a89192a",
   "metadata": {},
   "outputs": [],
   "source": [
    "import os\n",
    "import sys\n",
    "from ch20 import myTimer as mt\n",
    "from ch20 import myTimer2 as mt2\n",
    "from ch20 import timeseqs as ts"
   ]
  },
  {
   "cell_type": "code",
   "execution_count": 3,
   "id": "e7e2db83",
   "metadata": {},
   "outputs": [
    {
     "name": "stdout",
     "output_type": "stream",
     "text": [
      "(0.03125, 198)\n"
     ]
    }
   ],
   "source": [
    "# === CH20 Section ===\n",
    "def testFun(n) :\n",
    "    i = 0\n",
    "    j = range(n)\n",
    "    for i in range(n) :\n",
    "        i+= i\n",
    "#        print(i)\n",
    "    return i\n",
    "\n",
    "mt.reps = 10000\n",
    "mt.repslist = range(mt.reps)\n",
    "print(mt.timer(testFun, 100))"
   ]
  },
  {
   "cell_type": "code",
   "execution_count": 4,
   "id": "0e1b4c0f",
   "metadata": {},
   "outputs": [
    {
     "name": "stdout",
     "output_type": "stream",
     "text": [
      "---------------------------------\n",
      "forLoop  : 0.00000 => [0 ... 9999]\n",
      "---------------------------------\n",
      "listComp : 0.00000 => [0 ... 9999]\n",
      "---------------------------------\n",
      "mapCall  : 0.00000 => [0 ... 9999]\n",
      "---------------------------------\n",
      "genExpr  : 0.00000 => [0 ... 9999]\n",
      "---------------------------------\n",
      "genFunc  : 0.00000 => [0 ... 9999]\n"
     ]
    }
   ],
   "source": [
    "for test in (ts.forLoop, ts.listComp, ts.mapCall, ts.genExpr, ts.genFunc) :\n",
    "    elapsed, result = mt2.timer(test)\n",
    "    print('-' * 33)\n",
    "    print('%-9s: %.5f => [%s ... %s]' % (test.__name__, elapsed, result[0], result[-1]))"
   ]
  },
  {
   "cell_type": "code",
   "execution_count": null,
   "id": "6368c31d",
   "metadata": {},
   "outputs": [],
   "source": []
  }
 ],
 "metadata": {
  "kernelspec": {
   "display_name": "Python 3 (ipykernel)",
   "language": "python",
   "name": "python3"
  },
  "language_info": {
   "codemirror_mode": {
    "name": "ipython",
    "version": 3
   },
   "file_extension": ".py",
   "mimetype": "text/x-python",
   "name": "python",
   "nbconvert_exporter": "python",
   "pygments_lexer": "ipython3",
   "version": "3.9.13"
  }
 },
 "nbformat": 4,
 "nbformat_minor": 5
}
