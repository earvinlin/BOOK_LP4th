{
 "cells": [
  {
   "cell_type": "code",
   "execution_count": 1,
   "id": "9a89192a",
   "metadata": {},
   "outputs": [],
   "source": [
    "import os\n",
    "import sys\n",
    "from ch20 import myTimer as mt\n",
    "from ch20 import myTimer2 as mt2\n",
    "from ch20 import timeseqs as ts"
   ]
  },
  {
   "cell_type": "code",
   "execution_count": 2,
   "id": "e7e2db83",
   "metadata": {},
   "outputs": [
    {
     "name": "stdout",
     "output_type": "stream",
     "text": [
      "(0.039549999999999974, 198)\n"
     ]
    }
   ],
   "source": [
    "# === CH20 Section ===\n",
    "def testFun(n) :\n",
    "    i = 0\n",
    "    j = range(n)\n",
    "    for i in range(n) :\n",
    "        i+= i\n",
    "#        print(i)\n",
    "    return i\n",
    "\n",
    "mt.reps = 10000\n",
    "mt.repslist = range(mt.reps)\n",
    "print(mt.timer(testFun, 100))"
   ]
  },
  {
   "cell_type": "code",
   "execution_count": 3,
   "id": "14239336",
   "metadata": {},
   "outputs": [
    {
     "name": "stdout",
     "output_type": "stream",
     "text": [
      "---------------------------------\n",
      "forLoop  : 0.00000 => [0 ... 9999]\n",
      "---------------------------------\n",
      "listComp : 0.00000 => [0 ... 9999]\n",
      "---------------------------------\n",
      "mapCall  : 0.00000 => [0 ... 9999]\n",
      "---------------------------------\n",
      "genExpr  : 0.00000 => [0 ... 9999]\n",
      "---------------------------------\n",
      "genFunc  : 0.00000 => [0 ... 9999]\n"
     ]
    }
   ],
   "source": [
    "for test in (ts.forLoop, ts.listComp, ts.mapCall, ts.genExpr, ts.genFunc) :\n",
    "    elapsed, result = mt2.timer(test)\n",
    "    print('-' * 33)\n",
    "    print('%-9s: %.5f => [%s ... %s]' % (test.__name__, elapsed, result[0], result[-1]))"
   ]
  },
  {
   "cell_type": "code",
   "execution_count": 4,
   "id": "5d18c5e5",
   "metadata": {},
   "outputs": [
    {
     "data": {
      "text/plain": [
       "(0.0, 4294967296)"
      ]
     },
     "execution_count": 4,
     "metadata": {},
     "output_type": "execute_result"
    }
   ],
   "source": [
    "# p.526\n",
    "def power(X, Y) : return X ** Y \n",
    "mt2.timer(power, 2, 32)"
   ]
  },
  {
   "cell_type": "code",
   "execution_count": 5,
   "id": "2fb3c61c",
   "metadata": {},
   "outputs": [
    {
     "data": {
      "text/plain": [
       "(0.0, 4294967296)"
      ]
     },
     "execution_count": 5,
     "metadata": {},
     "output_type": "execute_result"
    }
   ],
   "source": [
    "mt2.timer(power, 2, 32, _reps = 10000000)"
   ]
  },
  {
   "cell_type": "code",
   "execution_count": 6,
   "id": "8905b74a",
   "metadata": {},
   "outputs": [
    {
     "name": "stdout",
     "output_type": "stream",
     "text": [
      "Bef=  88\n",
      "Aft=  99\n",
      "88\n"
     ]
    }
   ],
   "source": [
    "#== CH18 p.445 ==\n",
    "def f(a) :\n",
    "    print('Bef= ', a)\n",
    "    a = 99\n",
    "    print('Aft= ', a)\n",
    "    \n",
    "b = 88\n",
    "f(b)\n",
    "print(b)\n",
    "#print(c)\n"
   ]
  },
  {
   "cell_type": "code",
   "execution_count": 7,
   "id": "aa1ce4c3",
   "metadata": {},
   "outputs": [
    {
     "name": "stdout",
     "output_type": "stream",
     "text": [
      "1 ['spam', 2]\n"
     ]
    }
   ],
   "source": [
    "#== CH18 p.445 ==\n",
    "def changer(a, b) :\n",
    "    a = 2\n",
    "    b[0] = 'spam'\n",
    "    \n",
    "X = 1\n",
    "L = [1, 2]\n",
    "changer(X, L)\n",
    "print(X, L)\n"
   ]
  },
  {
   "cell_type": "code",
   "execution_count": 8,
   "id": "3b205c83",
   "metadata": {},
   "outputs": [
    {
     "name": "stdout",
     "output_type": "stream",
     "text": [
      "2 [3, 4]\n"
     ]
    }
   ],
   "source": [
    "#== CH18 p.448 ==\n",
    "def multiple(x, y) :\n",
    "    x = 2\n",
    "    y = [3, 4]\n",
    "    return x, y\n",
    "\n",
    "X = 1\n",
    "L = [1, 2]\n",
    "X, L = multiple(X, L)\n",
    "print(X, L)"
   ]
  },
  {
   "cell_type": "code",
   "execution_count": 10,
   "id": "fa9f7caf",
   "metadata": {},
   "outputs": [
    {
     "name": "stdout",
     "output_type": "stream",
     "text": [
      "2 [1, 2, 99]\n"
     ]
    }
   ],
   "source": [
    "def multiple2(x, y) :\n",
    "    x = x + 1\n",
    "    y.append(99)\n",
    "    return x, y\n",
    "\n",
    "X = 1\n",
    "L = [1, 2]\n",
    "X, L = multiple2(X, L)\n",
    "print(X, L)"
   ]
  },
  {
   "cell_type": "code",
   "execution_count": 11,
   "id": "f0f5152d",
   "metadata": {},
   "outputs": [
    {
     "name": "stdout",
     "output_type": "stream",
     "text": [
      "3 [1, 2, 99, 99]\n"
     ]
    }
   ],
   "source": [
    "X, L = multiple2(X, L)\n",
    "print(X, L)"
   ]
  },
  {
   "cell_type": "code",
   "execution_count": 12,
   "id": "a9d8bad6",
   "metadata": {},
   "outputs": [
    {
     "ename": "IndentationError",
     "evalue": "unexpected indent (3324527730.py, line 2)",
     "output_type": "error",
     "traceback": [
      "\u001b[0;36m  File \u001b[0;32m\"/var/folders/mt/4nx5jx_57kvg5fk9x6xt2cth0000gn/T/ipykernel_6199/3324527730.py\"\u001b[0;36m, line \u001b[0;32m2\u001b[0m\n\u001b[0;31m    a = a + 1\u001b[0m\n\u001b[0m    ^\u001b[0m\n\u001b[0;31mIndentationError\u001b[0m\u001b[0;31m:\u001b[0m unexpected indent\n"
     ]
    }
   ],
   "source": [
    "def f(T) : (a, (b, c)) = T\n",
    "    a = a + 1\n",
    "    return T\n",
    "\n",
    "A = 1\n",
    "L = (2, 3)\n",
    "print(f(A, L))\n"
   ]
  },
  {
   "cell_type": "code",
   "execution_count": null,
   "id": "accc58d4",
   "metadata": {},
   "outputs": [],
   "source": []
  }
 ],
 "metadata": {
  "kernelspec": {
   "display_name": "Python 3 (ipykernel)",
   "language": "python",
   "name": "python3"
  },
  "language_info": {
   "codemirror_mode": {
    "name": "ipython",
    "version": 3
   },
   "file_extension": ".py",
   "mimetype": "text/x-python",
   "name": "python",
   "nbconvert_exporter": "python",
   "pygments_lexer": "ipython3",
   "version": "3.9.13"
  }
 },
 "nbformat": 4,
 "nbformat_minor": 5
}
